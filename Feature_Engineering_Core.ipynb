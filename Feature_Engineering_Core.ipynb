{
 "cells": [
  {
   "cell_type": "markdown",
   "id": "827a8277",
   "metadata": {},
   "source": [
    "## Load and Import Data"
   ]
  },
  {
   "cell_type": "code",
   "execution_count": null,
   "id": "00820fb2",
   "metadata": {},
   "outputs": [],
   "source": [
    "import pandas as pd\n",
    "import matplotlib.pyplot as plt\n",
    "import numpy as np"
   ]
  },
  {
   "cell_type": "code",
   "execution_count": null,
   "id": "a6307e66",
   "metadata": {},
   "outputs": [],
   "source": [
    "filename = ('Data/bikeshare_train - bikeshare_train.csv')\n",
    "df= pd.read_csv(filename)\n",
    "df.info()\n",
    "df.head()"
   ]
  },
  {
   "cell_type": "code",
   "execution_count": null,
   "id": "01fecc8d",
   "metadata": {},
   "outputs": [],
   "source": [
    "#1. Drop casual and registered columns\n",
    "df.drop(['registered', 'casual'], axis = 1)"
   ]
  },
  {
   "cell_type": "code",
   "execution_count": null,
   "id": "2a010c56",
   "metadata": {},
   "outputs": [],
   "source": [
    "# Transform datatime columns\n",
    "df['datetime'] = pd.to_datetime(df['datetime'])\n",
    "df.info()"
   ]
  },
  {
   "cell_type": "code",
   "execution_count": null,
   "id": "2a633d7c",
   "metadata": {},
   "outputs": [],
   "source": [
    "#2. Add columns for name of month, name of day of week and hour of the day\n",
    "\n",
    "df['Name of the Month'] = df['datetime'].dt.month_name()\n",
    "df['Name of the Day of the Week'] = df['datetime'].dt.day_name()\n",
    "df['Hour of the Day'] = df['datetime'].dt.hour\n",
    "df.info()\n",
    "df.head()\n"
   ]
  },
  {
   "cell_type": "code",
   "execution_count": null,
   "id": "7cec7796",
   "metadata": {},
   "outputs": [],
   "source": [
    "# Making all new columns objects\n",
    "df['Hour of the Day'] = df['Hour of the Day'].astype('object')\n"
   ]
  },
  {
   "cell_type": "code",
   "execution_count": null,
   "id": "03ef2bf1",
   "metadata": {},
   "outputs": [],
   "source": [
    "df.dtypes"
   ]
  },
  {
   "cell_type": "code",
   "execution_count": null,
   "id": "bba014e0",
   "metadata": {},
   "outputs": [],
   "source": [
    "# Dropping datetime and season columns\n",
    "df.drop(['datetime', 'season'], axis = 1)"
   ]
  },
  {
   "cell_type": "code",
   "execution_count": null,
   "id": "5f0614cf",
   "metadata": {},
   "outputs": [],
   "source": [
    "#3. Convert temp and atemp to farenheit using apply and lambda\n",
    "df['temp'] = df['temp'].apply(lambda x: (9/5)*x + 32)\n",
    "df.head()"
   ]
  },
  {
   "cell_type": "code",
   "execution_count": null,
   "id": "7b027176",
   "metadata": {},
   "outputs": [],
   "source": [
    "df['atemp'] = df['atemp'].apply(lambda x: (9/5)*x + 32)\n",
    "df.head()"
   ]
  },
  {
   "cell_type": "code",
   "execution_count": null,
   "id": "922df7a7",
   "metadata": {},
   "outputs": [],
   "source": [
    "# Subtracting atemp from temp and making temp_variance column\n",
    "df['temp_variance'] = df['temp'] - df['atemp']\n",
    "df.head()"
   ]
  },
  {
   "cell_type": "code",
   "execution_count": null,
   "id": "adc2eefd",
   "metadata": {},
   "outputs": [],
   "source": [
    "df.drop(['atemp'], axis = 1)\n",
    "df.head()"
   ]
  }
 ],
 "metadata": {
  "kernelspec": {
   "display_name": "Python (dojo-env)",
   "language": "python",
   "name": "dojo-env"
  },
  "language_info": {
   "codemirror_mode": {
    "name": "ipython",
    "version": 3
   },
   "file_extension": ".py",
   "mimetype": "text/x-python",
   "name": "python",
   "nbconvert_exporter": "python",
   "pygments_lexer": "ipython3",
   "version": "3.9.15"
  },
  "toc": {
   "base_numbering": 1,
   "nav_menu": {},
   "number_sections": false,
   "sideBar": true,
   "skip_h1_title": false,
   "title_cell": "Table of Contents",
   "title_sidebar": "Contents",
   "toc_cell": false,
   "toc_position": {},
   "toc_section_display": true,
   "toc_window_display": false
  }
 },
 "nbformat": 4,
 "nbformat_minor": 5
}
